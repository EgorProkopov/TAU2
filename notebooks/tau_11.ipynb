{
 "cells": [
  {
   "cell_type": "markdown",
   "source": [
    "# Импорты"
   ],
   "metadata": {
    "collapsed": false
   },
   "id": "92b04396705b94d0"
  },
  {
   "cell_type": "code",
   "execution_count": 1,
   "id": "initial_id",
   "metadata": {
    "collapsed": true,
    "ExecuteTime": {
     "end_time": "2024-05-28T12:03:13.446611200Z",
     "start_time": "2024-05-28T12:03:06.351923400Z"
    }
   },
   "outputs": [],
   "source": [
    "import matplotlib.pyplot as plt\n",
    "import numpy as np\n",
    "import control \n",
    "import sympy\n",
    "import os\n",
    "import scipy\n",
    "import cvxpy \n",
    "import sympy.plotting\n",
    "import array_to_latex as a2l"
   ]
  },
  {
   "cell_type": "code",
   "execution_count": 2,
   "outputs": [],
   "source": [
    "np.set_printoptions(precision=2)\n",
    "sympy.init_printing()\n",
    "p = sympy.Symbol(\"p\")\n",
    "s = sympy.Symbol(\"s\")\n",
    "t = sympy.Symbol(\"t\")\n",
    "w = sympy.Symbol(\"w\")\n",
    "I = sympy.I"
   ],
   "metadata": {
    "collapsed": false,
    "ExecuteTime": {
     "end_time": "2024-05-28T12:03:13.524807900Z",
     "start_time": "2024-05-28T12:03:13.448605300Z"
    }
   },
   "id": "6dece925d5a1837c"
  },
  {
   "cell_type": "code",
   "execution_count": 3,
   "outputs": [],
   "source": [
    "def get_t(end_t = 10, dt=0.001, start_t = 0):\n",
    "    return np.linspace(start_t, end_t, int(end_t / dt))"
   ],
   "metadata": {
    "collapsed": false,
    "ExecuteTime": {
     "end_time": "2024-05-28T12:03:13.539811900Z",
     "start_time": "2024-05-28T12:03:13.525811500Z"
    }
   },
   "id": "c0c6458cc58e88a0"
  },
  {
   "cell_type": "code",
   "execution_count": 4,
   "outputs": [],
   "source": [
    "def get_controllability_matrix(A, B):\n",
    "    ctrb_m = np.hstack((B, *[(np.linalg.matrix_power(A, i)) @ B for i in range(1, A.shape[0])]))\n",
    "    assert np.allclose(control.ctrb(A, B), ctrb_m), 'Smth wrong'\n",
    "    return ctrb_m\n",
    "\n",
    "def get_observability_matrix(A, C):\n",
    "    obsv_m = np.vstack((C, *[C @ np.linalg.matrix_power(A, i) for i in range(1, A.shape[0])]))\n",
    "    assert np.allclose(control.obsv(A, C), obsv_m), 'Smth wrong'\n",
    "    return obsv_m\n",
    "        \n",
    "def check_controllability_eigens(A, B):\n",
    "    eig_vals = np.linalg.eigvals(A)\n",
    "    print(f'Eigen values of A:')\n",
    "    for val in eig_vals:\n",
    "        print(f\"   {np.array([val])}: {'controllable' if np.linalg.matrix_rank(np.hstack(((A - val * np.eye(A.shape[0])), B))) == A.shape[0] else 'not controllable'}\")\n",
    "\n",
    "def check_observability_eigens(C, A):\n",
    "    eig_vals = np.linalg.eigvals(A)\n",
    "    print(f'Eigen values of A:')\n",
    "    for val in eig_vals:\n",
    "        print(f\"   {np.array([val])}: {'observable' if np.linalg.matrix_rank(np.vstack(((A - val * np.eye(A.shape[0])), C))) == A.shape[0] else 'not observable'}\")\n"
   ],
   "metadata": {
    "collapsed": false,
    "ExecuteTime": {
     "end_time": "2024-05-28T12:03:13.570807700Z",
     "start_time": "2024-05-28T12:03:13.541807700Z"
    }
   },
   "id": "180e1295f9130913"
  },
  {
   "cell_type": "markdown",
   "source": [
    "# Задание 1"
   ],
   "metadata": {
    "collapsed": false
   },
   "id": "d59dd03a28558371"
  },
  {
   "cell_type": "code",
   "execution_count": 5,
   "outputs": [],
   "source": [
    "A = np.array([\n",
    "    [0, 1],\n",
    "    [0, 0]\n",
    "])\n",
    "\n",
    "B_1 = np.array([\n",
    "    [1, 1, 0],\n",
    "    [0, 1, 0]\n",
    "])\n",
    "\n",
    "B_2 = np.array([[0],\n",
    "                [1]])\n",
    "\n",
    "C_1 = np.array([[1, 0]])\n",
    "D_1 = np.array([[0, 0, 1]])"
   ],
   "metadata": {
    "collapsed": false,
    "ExecuteTime": {
     "end_time": "2024-05-28T12:03:13.570807700Z",
     "start_time": "2024-05-28T12:03:13.558809400Z"
    }
   },
   "id": "15dca6682c1e3070"
  },
  {
   "cell_type": "code",
   "execution_count": 6,
   "outputs": [],
   "source": [
    "task1_C_2s = np.array([\n",
    "    [[1, 0],\n",
    "     [0, 1],\n",
    "     [0, 0]],\n",
    "    [[1, 1],\n",
    "     [0, 2],\n",
    "     [0, 0]],\n",
    "])\n",
    "task1_D_2s = np.array([[[0], [0], [1]], [[0], [0], [2]]])\n",
    "\n",
    "ts = get_t(15)\n",
    "w = np.vstack([0.05 * np.sin(ts), 0.01 * np.sin(10 * ts), 0.01 * np.sin(10 * ts)])"
   ],
   "metadata": {
    "collapsed": false,
    "ExecuteTime": {
     "end_time": "2024-05-28T12:03:13.590810100Z",
     "start_time": "2024-05-28T12:03:13.572808200Z"
    }
   },
   "id": "ddd089e696a0a68b"
  },
  {
   "cell_type": "code",
   "execution_count": 7,
   "outputs": [],
   "source": [
    "omega_i = sympy.Symbol(\"omega\",real=True) * sympy.I\n",
    "\n",
    "def get_fraction(tf):\n",
    "    num, den = tf.num[0][0], tf.den[0][0]\n",
    "    den_ = sum((0 if abs(co) < 1e-3 else co) * omega_i**i for i, co in enumerate(reversed(den)))\n",
    "    num_ = sum((0 if abs(co) < 1e-3 else co) * omega_i**i for i, co in enumerate(reversed(num)))\n",
    "    return num_ / den_"
   ],
   "metadata": {
    "collapsed": false,
    "ExecuteTime": {
     "end_time": "2024-05-28T12:03:13.623814400Z",
     "start_time": "2024-05-28T12:03:13.589808500Z"
    }
   },
   "id": "c77c1dcc4c3f6c00"
  },
  {
   "cell_type": "code",
   "execution_count": 8,
   "outputs": [
    {
     "name": "stdout",
     "output_type": "stream",
     "text": [
      "\n",
      "______________________________\n",
      "Eigen values of A:\n",
      "   [0.]: controllable\n",
      "   [0.]: controllable\n",
      "Eigen values of A:\n",
      "   [0.]: observable\n",
      "   [0.]: observable\n",
      "\\[C_2 = \\begin{bmatrix}\n",
      "  1.00 &  0.00\\\\\n",
      "  0.00 &  1.00\\\\\n",
      "  0.00 &  0.00\n",
      "\\end{bmatrix}; D_2 = \\begin{bmatrix}\n",
      "  0.00\\\\\n",
      "  0.00\\\\\n",
      "  1.00\n",
      "\\end{bmatrix};\\]\n",
      "\\[C_2^T D_2 = 0: True\\]\n",
      "\\[D_2^T D_2 \\text{ обратима}: True\\]\n",
      "\\[spec(A-B_2 K) = \\begin{bmatrix}\n",
      " -0.87 + 0.50j & -0.87 + -0.50j\n",
      "\\end{bmatrix}\\]\n",
      "\\[Q = \\begin{bmatrix}\n",
      "  1.73 &  1.00\\\\\n",
      "  1.00 &  1.73\n",
      "\\end{bmatrix}\\]\n",
      "\\[K = \\begin{bmatrix}\n",
      "  1.00 &  1.73\n",
      "\\end{bmatrix}\\]\n"
     ]
    },
    {
     "ename": "ControlMIMONotImplemented",
     "evalue": "Not implemented for MIMO systems without slycot.",
     "output_type": "error",
     "traceback": [
      "\u001B[1;31m---------------------------------------------------------------------------\u001B[0m",
      "\u001B[1;31mModuleNotFoundError\u001B[0m                       Traceback (most recent call last)",
      "File \u001B[1;32m~\\AppData\\Local\\Programs\\Python\\Python310\\lib\\site-packages\\control\\xferfcn.py:1483\u001B[0m, in \u001B[0;36m_convert_to_transfer_function\u001B[1;34m(sys, inputs, outputs, use_prefix_suffix)\u001B[0m\n\u001B[0;32m   1480\u001B[0m \u001B[38;5;28;01mtry\u001B[39;00m:\n\u001B[0;32m   1481\u001B[0m     \u001B[38;5;66;03m# Use Slycot to make the transformation\u001B[39;00m\n\u001B[0;32m   1482\u001B[0m     \u001B[38;5;66;03m# Make sure to convert system matrices to numpy arrays\u001B[39;00m\n\u001B[1;32m-> 1483\u001B[0m     \u001B[38;5;28;01mfrom\u001B[39;00m \u001B[38;5;21;01mslycot\u001B[39;00m \u001B[38;5;28;01mimport\u001B[39;00m tb04ad\n\u001B[0;32m   1484\u001B[0m     tfout \u001B[38;5;241m=\u001B[39m tb04ad(\n\u001B[0;32m   1485\u001B[0m         sys\u001B[38;5;241m.\u001B[39mnstates, sys\u001B[38;5;241m.\u001B[39mninputs, sys\u001B[38;5;241m.\u001B[39mnoutputs, array(sys\u001B[38;5;241m.\u001B[39mA),\n\u001B[0;32m   1486\u001B[0m         array(sys\u001B[38;5;241m.\u001B[39mB), array(sys\u001B[38;5;241m.\u001B[39mC), array(sys\u001B[38;5;241m.\u001B[39mD), tol1\u001B[38;5;241m=\u001B[39m\u001B[38;5;241m0.0\u001B[39m)\n",
      "\u001B[1;31mModuleNotFoundError\u001B[0m: No module named 'slycot'",
      "\nDuring handling of the above exception, another exception occurred:\n",
      "\u001B[1;31mControlMIMONotImplemented\u001B[0m                 Traceback (most recent call last)",
      "Cell \u001B[1;32mIn[8], line 18\u001B[0m\n\u001B[0;32m     15\u001B[0m \u001B[38;5;28mprint\u001B[39m(\u001B[38;5;124mf\u001B[39m\u001B[38;5;124m'\u001B[39m\u001B[38;5;124m\\\u001B[39m\u001B[38;5;124m[K = \u001B[39m\u001B[38;5;132;01m{\u001B[39;00ma2l\u001B[38;5;241m.\u001B[39mto_ltx(K,\u001B[38;5;250m \u001B[39mprint_out\u001B[38;5;241m=\u001B[39m\u001B[38;5;28;01mFalse\u001B[39;00m)\u001B[38;5;132;01m}\u001B[39;00m\u001B[38;5;124m\\\u001B[39m\u001B[38;5;124m]\u001B[39m\u001B[38;5;124m'\u001B[39m)\n\u001B[0;32m     17\u001B[0m ss \u001B[38;5;241m=\u001B[39m control\u001B[38;5;241m.\u001B[39mss(A \u001B[38;5;241m-\u001B[39m B_2\u001B[38;5;129m@K\u001B[39m, B_1, task1_C_2 \u001B[38;5;241m-\u001B[39m task1_D_2 \u001B[38;5;241m@\u001B[39m K, np\u001B[38;5;241m.\u001B[39mzeros((task1_C_2\u001B[38;5;241m.\u001B[39mshape[\u001B[38;5;241m0\u001B[39m], B_1\u001B[38;5;241m.\u001B[39mshape[\u001B[38;5;241m1\u001B[39m])))\n\u001B[1;32m---> 18\u001B[0m tf \u001B[38;5;241m=\u001B[39m \u001B[43mcontrol\u001B[49m\u001B[38;5;241;43m.\u001B[39;49m\u001B[43mss2tf\u001B[49m\u001B[43m(\u001B[49m\u001B[43mss\u001B[49m\u001B[43m)\u001B[49m\n\u001B[0;32m     20\u001B[0m smatrix \u001B[38;5;241m=\u001B[39m []\n\u001B[0;32m     21\u001B[0m \u001B[38;5;28;01mfor\u001B[39;00m row \u001B[38;5;129;01min\u001B[39;00m \u001B[38;5;28mrange\u001B[39m(tf\u001B[38;5;241m.\u001B[39mnoutputs):\n",
      "File \u001B[1;32m~\\AppData\\Local\\Programs\\Python\\Python310\\lib\\site-packages\\control\\xferfcn.py:1816\u001B[0m, in \u001B[0;36mss2tf\u001B[1;34m(*args, **kwargs)\u001B[0m\n\u001B[0;32m   1813\u001B[0m     \u001B[38;5;28;01mif\u001B[39;00m \u001B[38;5;129;01mnot\u001B[39;00m kwargs\u001B[38;5;241m.\u001B[39mget(\u001B[38;5;124m'\u001B[39m\u001B[38;5;124moutputs\u001B[39m\u001B[38;5;124m'\u001B[39m):\n\u001B[0;32m   1814\u001B[0m         kwargs[\u001B[38;5;124m'\u001B[39m\u001B[38;5;124moutputs\u001B[39m\u001B[38;5;124m'\u001B[39m] \u001B[38;5;241m=\u001B[39m sys\u001B[38;5;241m.\u001B[39moutput_labels\n\u001B[0;32m   1815\u001B[0m     \u001B[38;5;28;01mreturn\u001B[39;00m TransferFunction(\n\u001B[1;32m-> 1816\u001B[0m         \u001B[43m_convert_to_transfer_function\u001B[49m\u001B[43m(\u001B[49m\n\u001B[0;32m   1817\u001B[0m \u001B[43m            \u001B[49m\u001B[43msys\u001B[49m\u001B[43m,\u001B[49m\u001B[43m \u001B[49m\u001B[43muse_prefix_suffix\u001B[49m\u001B[38;5;241;43m=\u001B[39;49m\u001B[38;5;129;43;01mnot\u001B[39;49;00m\u001B[43m \u001B[49m\u001B[43msys\u001B[49m\u001B[38;5;241;43m.\u001B[39;49m\u001B[43m_generic_name_check\u001B[49m\u001B[43m(\u001B[49m\u001B[43m)\u001B[49m\u001B[43m)\u001B[49m,\n\u001B[0;32m   1818\u001B[0m         \u001B[38;5;241m*\u001B[39m\u001B[38;5;241m*\u001B[39mkwargs)\n\u001B[0;32m   1819\u001B[0m \u001B[38;5;28;01melse\u001B[39;00m:\n\u001B[0;32m   1820\u001B[0m     \u001B[38;5;28;01mraise\u001B[39;00m \u001B[38;5;167;01mTypeError\u001B[39;00m(\n\u001B[0;32m   1821\u001B[0m         \u001B[38;5;124m\"\u001B[39m\u001B[38;5;124mss2tf(sys): sys must be a StateSpace object.  It is \u001B[39m\u001B[38;5;132;01m%s\u001B[39;00m\u001B[38;5;124m.\u001B[39m\u001B[38;5;124m\"\u001B[39m\n\u001B[0;32m   1822\u001B[0m         \u001B[38;5;241m%\u001B[39m \u001B[38;5;28mtype\u001B[39m(sys))\n",
      "File \u001B[1;32m~\\AppData\\Local\\Programs\\Python\\Python310\\lib\\site-packages\\control\\xferfcn.py:1504\u001B[0m, in \u001B[0;36m_convert_to_transfer_function\u001B[1;34m(sys, inputs, outputs, use_prefix_suffix)\u001B[0m\n\u001B[0;32m   1501\u001B[0m \u001B[38;5;28;01mexcept\u001B[39;00m \u001B[38;5;167;01mImportError\u001B[39;00m:\n\u001B[0;32m   1502\u001B[0m     \u001B[38;5;66;03m# If slycot is not available, use signal.lti (SISO only)\u001B[39;00m\n\u001B[0;32m   1503\u001B[0m     \u001B[38;5;28;01mif\u001B[39;00m sys\u001B[38;5;241m.\u001B[39mninputs \u001B[38;5;241m!=\u001B[39m \u001B[38;5;241m1\u001B[39m \u001B[38;5;129;01mor\u001B[39;00m sys\u001B[38;5;241m.\u001B[39mnoutputs \u001B[38;5;241m!=\u001B[39m \u001B[38;5;241m1\u001B[39m:\n\u001B[1;32m-> 1504\u001B[0m         \u001B[38;5;28;01mraise\u001B[39;00m ControlMIMONotImplemented(\u001B[38;5;124m\"\u001B[39m\u001B[38;5;124mNot implemented for \u001B[39m\u001B[38;5;124m\"\u001B[39m \u001B[38;5;241m+\u001B[39m\n\u001B[0;32m   1505\u001B[0m             \u001B[38;5;124m\"\u001B[39m\u001B[38;5;124mMIMO systems without slycot.\u001B[39m\u001B[38;5;124m\"\u001B[39m)\n\u001B[0;32m   1507\u001B[0m     \u001B[38;5;66;03m# Do the conversion using sp.signal.ss2tf\u001B[39;00m\n\u001B[0;32m   1508\u001B[0m     \u001B[38;5;66;03m# Note that this returns a 2D array for the numerator\u001B[39;00m\n\u001B[0;32m   1509\u001B[0m     num, den \u001B[38;5;241m=\u001B[39m sp\u001B[38;5;241m.\u001B[39msignal\u001B[38;5;241m.\u001B[39mss2tf(sys\u001B[38;5;241m.\u001B[39mA, sys\u001B[38;5;241m.\u001B[39mB, sys\u001B[38;5;241m.\u001B[39mC, sys\u001B[38;5;241m.\u001B[39mD)\n",
      "\u001B[1;31mControlMIMONotImplemented\u001B[0m: Not implemented for MIMO systems without slycot."
     ]
    }
   ],
   "source": [
    "for i in range(2):\n",
    "    print('\\n______________________________')\n",
    "    task1_C_2 = task1_C_2s[i]\n",
    "    task1_D_2 = task1_D_2s[i]\n",
    "    check_controllability_eigens(A, B_2)\n",
    "    check_observability_eigens(task1_C_2, A)\n",
    "    Q = task1_C_2.T @ task1_C_2\n",
    "    R = task1_D_2.T @ task1_D_2\n",
    "    K, S, E = control.lqr(A, B_2, Q, R)\n",
    "    print(f'\\[C_2 = {a2l.to_ltx(task1_C_2, print_out=False)}; D_2 = {a2l.to_ltx(task1_D_2, print_out=False)};\\]')\n",
    "    print(f'\\[C_2^T D_2 = 0: {np.all(task1_C_2.T @ task1_D_2 == 0)}\\]')\n",
    "    print(f'\\[D_2^T D_2 \\\\text{\"{ обратима}\"}: {np.linalg.det(task1_D_2.T @ task1_D_2) != 0}\\]')\n",
    "    print(f'\\[spec(A-B_2 K) = {a2l.to_ltx(E, print_out=False)}\\]')\n",
    "    print(f'\\[Q = {a2l.to_ltx(S, print_out=False)}\\]')\n",
    "    print(f'\\[K = {a2l.to_ltx(K, print_out=False)}\\]')\n",
    "\n",
    "    ss = control.ss(A - B_2@K, B_1, task1_C_2 - task1_D_2 @ K, np.zeros((task1_C_2.shape[0], B_1.shape[1])))\n",
    "    tf = control.ss2tf(ss)\n",
    "    \n",
    "    smatrix = []\n",
    "    for row in range(tf.noutputs):\n",
    "        srow = []\n",
    "        for col in range(tf.ninputs):\n",
    "            srow.append(get_fraction(tf[row, col]))\n",
    "        smatrix.append(srow)\n",
    "    smatrix = sympy.Matrix(smatrix)\n",
    "    sympy.print_latex(smatrix)\n",
    "    \n",
    "    gram_obs = control.gram(ss, \"o\")\n",
    "    print(f'\\[||W||_{\"{H_2}\"} = {np.sqrt(np.trace(B_1.T @ gram_obs @ B_1))}\\]')\n",
    "\n",
    "    # Simulation\n",
    "    resp = control.forced_response(ss, X0=np.ones((2, 1)), T=ts, U=w)\n",
    "    for indx, z in enumerate(resp.outputs):\n",
    "        plt.plot(ts, z, label=f'$z_{indx}$')\n",
    "    plt.xlabel('t, c')\n",
    "    plt.ylabel('z')\n",
    "    plt.legend()\n",
    "    plt.close()\n",
    "\n",
    "    # Frequency response\n",
    "    for ni in range(task1_C_2.shape[0]):\n",
    "        for nj in range(B_1.shape[1]):\n",
    "            mag, phase, omega = control.bode(tf[ni, nj], omega=np.arange(10**-3, 10**3, 10**-2), plot=False)\n",
    "            plt.plot(omega, mag)\n",
    "    plt.yscale('log')\n",
    "    plt.xscale('log')\n",
    "    plt.xlabel('w, rad/s')\n",
    "    plt.ylabel('Amp')\n",
    "    plt.close()\n",
    "    \n",
    "    # Singular values plot\n",
    "    sigma, omega = control.singular_values_plot(ss, plot=False)\n",
    "    for s in sigma:\n",
    "        plt.plot(omega, s)\n",
    "    plt.grid()\n",
    "    plt.xlabel('$\\omega, рад/с$')\n",
    "    plt.ylabel('$\\sigma$')\n",
    "    plt.close()\n",
    "    \n",
    "    print(f'\\[||W||_H_\\\\{\"infty\"} = {sigma.max()} \\]')\n",
    "    "
   ],
   "metadata": {
    "collapsed": false,
    "ExecuteTime": {
     "end_time": "2024-05-28T12:03:14.789835100Z",
     "start_time": "2024-05-28T12:03:13.604808300Z"
    }
   },
   "id": "86d0fa413ec6e1a1"
  },
  {
   "cell_type": "markdown",
   "source": [
    "# Задание 2"
   ],
   "metadata": {
    "collapsed": false
   },
   "id": "791abbbf17dadb92"
  },
  {
   "cell_type": "code",
   "execution_count": null,
   "outputs": [],
   "source": [
    "def generate_H2_obs(a, b_1, c_1, d_1):\n",
    "    p = scipy.linalg.solve_continuous_are(a.T, c_1.T, b_1@b_1.T, d_1@d_1.T)\n",
    "    return -p @ c_1.T @np.linalg.inv(d_1 @ d_1.T)"
   ],
   "metadata": {
    "collapsed": false,
    "ExecuteTime": {
     "start_time": "2024-05-28T12:03:14.783835300Z"
    }
   },
   "id": "ea5ef4b3c752ecf4"
  },
  {
   "cell_type": "code",
   "execution_count": null,
   "outputs": [],
   "source": [
    "def generate_H2_obs(a, b_1, c_1, d_1):\n",
    "    p = scipy.linalg.solve_continuous_are(a.T, c_1.T, b_1 @ b_1.T, d_1 @ d_1.T)\n",
    "    return -p @ c_1.T @ np.linalg.inv(d_1 @ d_1.T)\n",
    "\n",
    "\n",
    "for i in range(2):\n",
    "    print('\\n______________________________')\n",
    "    task1_C_2 = task1_C_2s[i]\n",
    "    task1_D_2 = task1_D_2s[i]\n",
    "    # check_controllability_eigens(A, B_2)\n",
    "    # check_observability_eigens(task1_C_2, A)\n",
    "    Q = task1_C_2.T @ task1_C_2\n",
    "    R = task1_D_2.T @ task1_D_2\n",
    "    K, S, E = control.lqr(A, B_2, Q, R)\n",
    "    K = -K\n",
    "    print(f'\\[C_2 = {a2l.to_ltx(task1_C_2, print_out=False)}; D_2 = {a2l.to_ltx(task1_D_2, print_out=False)};\\]')\n",
    "    # print(f'\\[C_2^T D_2 = 0: {np.all(task1_C_2.T @ task1_D_2 == 0)}\\]')\n",
    "    # print(f'\\[D_2^T D_2 \\\\text{\"{ обратима}\"}: {np.linalg.det(task1_D_2.T @ task1_D_2) != 0}\\]')\n",
    "    # print(f'\\[spec(A-B_2 K) = {a2l.to_ltx(E, print_out=False)}\\]')\n",
    "    # print(f'\\[Q = {a2l.to_ltx(S, print_out=False)}\\]')\n",
    "    print(f'\\[K = {a2l.to_ltx(K, print_out=False)}\\]')\n",
    "\n",
    "    L = generate_H2_obs(A, B_1, C_1, D_1)\n",
    "    print(f'\\[L = {a2l.to_ltx(L, print_out=False)}\\]')\n",
    "\n",
    "    new_A = np.block([[A, B_2 @ K], [-L @ C_1, A + B_2 @ K + L @ C_1]])\n",
    "    new_B = np.block([[B_1], [-L @ D_1]])\n",
    "    new_C = np.block([task1_C_2, -task1_D_2 @ K])\n",
    "    ss = control.ss(new_A, new_B, new_C, 0)\n",
    "    tf = control.ss2tf(ss)\n",
    "\n",
    "    smatrix = []\n",
    "    for row in range(tf.noutputs):\n",
    "        srow = []\n",
    "        for col in range(tf.ninputs):\n",
    "            srow.append(get_fraction(tf[row, col]))\n",
    "        smatrix.append(srow)\n",
    "    smatrix = sympy.Matrix(smatrix)\n",
    "    sympy.print_latex(smatrix)\n",
    "\n",
    "    gram_obs = control.gram(ss, \"o\")\n",
    "    print(f'\\[||W||_{\"{H_2}\"} = {np.sqrt(np.trace(new_B.T @ gram_obs @ new_B))}\\]')\n",
    "\n",
    "    # Simulation\n",
    "    resp = control.forced_response(ss, X0=[1, 2, 3, 4], T=ts, U=w)\n",
    "    for indx, z in enumerate(resp.outputs):\n",
    "        plt.plot(ts, z, label=f'$z_{indx}$')\n",
    "    plt.xlabel('t, c')\n",
    "    plt.ylabel('z')\n",
    "    plt.legend()\n",
    "    plt.close()\n",
    "\n",
    "    # Frequency response\n",
    "    for ni in range(task1_C_2.shape[0]):\n",
    "        for nj in range(B_1.shape[1]):\n",
    "            mag, phase, omega = control.bode(tf[ni, nj], omega=np.arange(10 ** -3, 10 ** 3, 10 ** -2), plot=False)\n",
    "            plt.plot(omega, mag)\n",
    "    plt.yscale('log')\n",
    "    plt.xscale('log')\n",
    "    plt.xlabel('w, rad/s')\n",
    "    plt.ylabel('Amp')\n",
    "    plt.close()\n",
    "\n",
    "    # Singular values plot\n",
    "    sigma, omega = control.singular_values_plot(ss, plot=False)\n",
    "    for s in sigma:\n",
    "        plt.plot(omega, s)\n",
    "    plt.grid()\n",
    "    plt.xlabel('$\\omega, рад/с$')\n",
    "    plt.ylabel('$\\sigma$')\n",
    "    plt.close()\n",
    "\n",
    "    print(f'\\[||W||_H_\\\\{\"infty\"} = {sigma.max()} \\]')\n",
    "\n"
   ],
   "metadata": {
    "collapsed": false
   },
   "id": "2c0fffbba3aba795"
  },
  {
   "cell_type": "markdown",
   "source": [
    "# Задание 3"
   ],
   "metadata": {
    "collapsed": false
   },
   "id": "36e6c98e25613b20"
  },
  {
   "cell_type": "code",
   "execution_count": null,
   "outputs": [],
   "source": [
    "C_2 = task1_C_2s[0]\n",
    "D_2 = task1_D_2s[0]"
   ],
   "metadata": {
    "collapsed": false,
    "ExecuteTime": {
     "start_time": "2024-05-28T12:03:14.788834200Z"
    }
   },
   "id": "43a9a85a5fbb6f15"
  },
  {
   "cell_type": "code",
   "execution_count": null,
   "outputs": [],
   "source": [
    "def generate_Hinf(a, b_2, c_2, d_2, b_1, gamma):\n",
    "    R = b_2@np.linalg.inv(d_2.T@d_2)@b_2.T-(gamma**-2)*b_1@b_1.T\n",
    "    q = scipy.linalg.solve_continuous_are(a,np.identity(R.shape[0]),c_2.T@c_2,np.linalg.inv(R))\n",
    "    return -np.linalg.inv(d_2.T@d_2)@b_2.T@q"
   ],
   "metadata": {
    "collapsed": false
   },
   "id": "d48cc6c2cdf65999"
  },
  {
   "cell_type": "code",
   "execution_count": null,
   "outputs": [],
   "source": [
    "gammas = [1.4, 2, 10]"
   ],
   "metadata": {
    "collapsed": false
   },
   "id": "391680f640abcbb"
  },
  {
   "cell_type": "code",
   "execution_count": null,
   "outputs": [],
   "source": [
    "for i in range(3):\n",
    "    print('\\n\\subsubsubsection{gamma = ' + str(gammas[i]) + '}')\n",
    "    # check_controllability_eigens(A, B_2)\n",
    "    # check_observability_eigens(C_2, A)\n",
    "    Q = C_2.T @ C_2\n",
    "    R = D_2.T @ D_2\n",
    "    K = -generate_Hinf(A, B_2, C_2, D_2, B_1, gammas[i])\n",
    "    # print(f'\\[C_2 = {a2l.to_ltx(C_2, print_out=False)}; D_2 = {a2l.to_ltx(D_2, print_out=False)};\\]')\n",
    "    # print(f'\\[C_2^T D_2 = 0: {np.all(C_2.T @ D_2 == 0)}\\]')\n",
    "    # print(f'\\[D_2^T D_2 \\\\text{\"{ обратима}\"}: {np.linalg.det(D_2.T @ D_2) != 0}\\]')\n",
    "    print(f'\\[spec(A-B_2 K) = {np.linalg.eigvals(A - B_2 @ K)}\\]')\n",
    "    # print(f'\\[Q = {a2l.to_ltx(S, print_out=False)}\\]')\n",
    "    print(f'\\[K = {a2l.to_ltx(K, print_out=False)}\\]')\n",
    "\n",
    "    ss = control.ss(A - B_2@K, B_1, C_2 - D_2 @ K, np.zeros((C_2.shape[0], B_1.shape[1])))\n",
    "    tf = control.ss2tf(ss)\n",
    "    \n",
    "    smatrix = []\n",
    "    for row in range(tf.noutputs):\n",
    "        srow = []\n",
    "        for col in range(tf.ninputs):\n",
    "            srow.append(get_fraction(tf[row, col]))\n",
    "        smatrix.append(srow)\n",
    "    smatrix = sympy.Matrix(smatrix)\n",
    "    sympy.print_latex(smatrix)\n",
    "    \n",
    "    gram_obs = control.gram(ss, \"o\")\n",
    "    print(f'\\[||W||_{\"{H_2}\"} = {np.sqrt(np.trace(B_1.T @ gram_obs @ B_1))}\\]')\n",
    "\n",
    "    # Simulation\n",
    "    resp = control.forced_response(ss, X0=np.ones((2, 1)), T=ts, U=w)\n",
    "    for indx, z in enumerate(resp.outputs):\n",
    "        plt.plot(ts, z, label=f'$z_{indx}$')\n",
    "    plt.xlabel('t, c')\n",
    "    plt.ylabel('z')\n",
    "    plt.legend()\n",
    "    plt.close()\n",
    "\n",
    "    # Frequency response\n",
    "    for ni in range(C_2.shape[0]):\n",
    "        for nj in range(B_1.shape[1]):\n",
    "            mag, phase, omega = control.bode(tf[ni, nj], omega=np.arange(10**-3, 10**3, 10**-2), plot=False)\n",
    "            plt.plot(omega, mag)\n",
    "    plt.yscale('log')\n",
    "    plt.xscale('log')\n",
    "    plt.xlabel('w, rad/s')\n",
    "    plt.ylabel('Amp')\n",
    "    plt.close()\n",
    "    \n",
    "    # Singular values plot\n",
    "    sigma, omega = control.singular_values_plot(ss, plot=False)\n",
    "    for s in sigma:\n",
    "        plt.plot(omega, s)\n",
    "    plt.grid()\n",
    "    plt.xlabel('$\\omega, рад/с$')\n",
    "    plt.ylabel('$\\sigma$')\n",
    "    plt.close()\n",
    "    \n",
    "    print(f'\\[||W||_H_\\\\{\"infty\"} = {sigma.max()} \\]')\n",
    "    "
   ],
   "metadata": {
    "collapsed": false
   },
   "id": "757c5cb297dcd18f"
  },
  {
   "cell_type": "markdown",
   "source": [
    "# Задание 4"
   ],
   "metadata": {
    "collapsed": false
   },
   "id": "2e36db9b584187e0"
  },
  {
   "cell_type": "code",
   "execution_count": null,
   "outputs": [],
   "source": [
    "def generate_Hinf_obs(a, b_1, b_2, c_1, c_2, d_1, d_2, gamma):\n",
    "    R_1 = c_1.T @ np.linalg.inv(d_1 @ d_1.T) @c_1 - (gamma**-2) * c_2.T @ c_2\n",
    "    R_2 = b_2 @ np.linalg.inv(d_2.T @ d_2) @ b_2.T - (gamma**-2) * b_1 @ b_1.T\n",
    "    p = scipy.linalg.solve_continuous_are(a.T, np.identity(R_1.shape[0]), b_1@b_1.T, np.linalg.inv(R_1))\n",
    "    q = scipy.linalg.solve_continuous_are(a, np.identity(R_2.shape[0]), c_2.T@c_2, np.linalg.inv(R_2))\n",
    "    if np.max(np.linalg.eig(p@q)[0]) < gamma ** 2:\n",
    "        l = -p@np.linalg.inv(np.identity(q.shape[0])-(gamma**-2)*q@p)@(c_1+(gamma**-2)*d_1@b_1.T@q).T@np.linalg.inv(d_1@d_1.T)\n",
    "        k = -np.linalg.inv(d_2.T@d_2)@b_2.T@q\n",
    "        return k, l, q\n",
    "    return None"
   ],
   "metadata": {
    "collapsed": false,
    "ExecuteTime": {
     "start_time": "2024-05-28T12:03:14.791835200Z"
    }
   },
   "id": "fc612c02de346eb4"
  },
  {
   "cell_type": "code",
   "execution_count": null,
   "outputs": [],
   "source": [
    "for gamma in gammas:\n",
    "    K_4_1, L_4_1, Q_1 = generate_Hinf_obs(A, B_1, B_2, C_1, C_2, D_1, D_2, gamma)\n",
    "    print(K_4_1)"
   ],
   "metadata": {
    "collapsed": false
   },
   "id": "39ec2164cc430537"
  },
  {
   "cell_type": "code",
   "execution_count": null,
   "outputs": [],
   "source": [
    "for i in range(3):\n",
    "    print('\\n\\subsubsubsection{gamma = ' + str(gammas[i]) + '}')\n",
    "    K, L, Q = generate_Hinf_obs(A, B_1, B_2, C_1, C_2, D_1, D_2, gamma)\n",
    "    print(f'\\[spec(A-B_2 K) = {np.linalg.eigvals(A - B_2 @ K)}\\]')\n",
    "    print(f'\\[K = {a2l.to_ltx(K, print_out=False)}\\]')\n",
    "    print(f'\\[Q = {a2l.to_ltx(Q, print_out=False)}\\]')\n",
    "    print(f'\\[L = {a2l.to_ltx(L, print_out=False)}\\]')\n",
    "    \n",
    "    \n",
    "    A_new = np.block([\n",
    "    [A + B_2@K, -B_2@K],\n",
    "    [-(L@D_1+B_1)*(10**-2)@B_1.T@Q, A + L@C_1 + (L@D_1+B_1)*(10**-2)@B_1.T@Q]\n",
    "    ]) \n",
    "    B_new = np.block([\n",
    "        [B_1],\n",
    "        [L@D_1+B_1]\n",
    "    ]) \n",
    "    C_new = np.block([C_2+D_2@K, -D_2@K])\n",
    "    D_new = np.zeros((C_2.shape[0],D_1.shape[1]))    \n",
    "\n",
    "    ss = control.ss(A_new,B_new,C_new,D_new)\n",
    "    tf = control.ss2tf(ss)\n",
    "    \n",
    "    smatrix = []\n",
    "    for row in range(tf.noutputs):\n",
    "        srow = []\n",
    "        for col in range(tf.ninputs):\n",
    "            srow.append(get_fraction(tf[row, col]))\n",
    "        smatrix.append(srow)\n",
    "    smatrix = sympy.Matrix(smatrix)\n",
    "    sympy.print_latex(smatrix)\n",
    "    \n",
    "    gram_obs = control.gram(ss, \"o\")\n",
    "    print(f'\\[||W||_{\"{H_2}\"} = {np.sqrt(np.trace(B_new.T @ gram_obs @ B_new))}\\]')\n",
    "\n",
    "    # Simulation\n",
    "    resp = control.forced_response(ss, X0=[1, 2, 3, 4], T=ts, U=w)\n",
    "    for indx, z in enumerate(resp.outputs):\n",
    "        plt.plot(ts, z, label=f'$z_{indx}$')\n",
    "    plt.xlabel('t, c')\n",
    "    plt.ylabel('z')\n",
    "    plt.legend()\n",
    "    plt.close()\n",
    "\n",
    "    # Frequency response\n",
    "    for ni in range(C_2.shape[0]):\n",
    "        for nj in range(B_1.shape[1]):\n",
    "            mag, phase, omega = control.bode(tf[ni, nj], omega=np.arange(10**-3, 10**3, 10**-2), plot=False)\n",
    "            plt.plot(omega, mag)\n",
    "    plt.yscale('log')\n",
    "    plt.xscale('log')\n",
    "    plt.xlabel('w, rad/s')\n",
    "    plt.ylabel('Amp')\n",
    "    plt.close()\n",
    "    \n",
    "    # Singular values plot\n",
    "    sigma, omega = control.singular_values_plot(ss, plot=False)\n",
    "    for s in sigma:\n",
    "        plt.plot(omega, s)\n",
    "    plt.grid()\n",
    "    plt.xlabel('$\\omega, рад/с$')\n",
    "    plt.ylabel('$\\sigma$')\n",
    "    plt.close()\n",
    "    \n",
    "    print(f'\\[||W||_H_\\\\{\"infty\"} = {sigma.max()} \\]')\n",
    "    "
   ],
   "metadata": {
    "collapsed": false
   },
   "id": "e7ef258be1b719ad"
  }
 ],
 "metadata": {
  "kernelspec": {
   "display_name": "Python 3",
   "language": "python",
   "name": "python3"
  },
  "language_info": {
   "codemirror_mode": {
    "name": "ipython",
    "version": 2
   },
   "file_extension": ".py",
   "mimetype": "text/x-python",
   "name": "python",
   "nbconvert_exporter": "python",
   "pygments_lexer": "ipython2",
   "version": "2.7.6"
  }
 },
 "nbformat": 4,
 "nbformat_minor": 5
}
